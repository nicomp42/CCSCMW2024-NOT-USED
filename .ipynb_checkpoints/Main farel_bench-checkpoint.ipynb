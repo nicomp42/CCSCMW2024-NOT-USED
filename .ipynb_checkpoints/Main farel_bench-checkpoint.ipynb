{
 "cells": [
  {
   "cell_type": "code",
   "execution_count": null,
   "id": "70789c64-36b8-439d-b221-efedd526f4aa",
   "metadata": {},
   "outputs": [],
   "source": [
    "# Main for farel_bench\n",
    "\n",
    "# Bill Nicholson\n",
    "# nicholdw@ucmail.uc.edu\n",
    "\n",
    "# We've already generated a corpus of questions and we'll work with that. The code in farel_bench.py (original GitHub repo) can be used to generate more questions if necessary.\n",
    "\n",
    "# Todo: Break up the \"quiz\" key in the question dictionary into question and answers. "
   ]
  },
  {
   "cell_type": "code",
   "execution_count": null,
   "id": "b4ac53b8-e97a-431a-a11f-003070d8ce7f",
   "metadata": {},
   "outputs": [],
   "source": [
    "import codecs\n",
    "import random\n",
    "import sys\n",
    "import import_ipynb\n",
    "import contextlib\n",
    "import random"
   ]
  },
  {
   "cell_type": "code",
   "execution_count": 3,
   "id": "7450ab5b-0771-4d68-9d96-4dfbee2c64d3",
   "metadata": {},
   "outputs": [],
   "source": [
    "with contextlib.redirect_stdout(None):\n",
    "    from CSV_Processor import *\n",
    "    from Utilities import *\n",
    "    from Reading_Level import *\n",
    "    from Wordcloud import *\n",
    "    from Word_Processing import *"
   ]
  },
  {
   "cell_type": "code",
   "execution_count": 4,
   "id": "a002df77-fcbd-4e5a-8334-dccff259831c",
   "metadata": {},
   "outputs": [],
   "source": [
    "def print_question(question):\n",
    "    '''\n",
    "    Print a single question in a friendly human-readable format\n",
    "    @param question dictionary: The question to print\n",
    "    '''\n",
    "    for key in question.keys():\n",
    "        print(key + \":\", str(question[key]).replace(\"\\\\n\", \"\\n\"))"
   ]
  },
  {
   "cell_type": "code",
   "execution_count": 5,
   "id": "08bdebaf-2154-4587-8e91-794cc92be94a",
   "metadata": {},
   "outputs": [],
   "source": [
    "def get_random_question(questions, level = -1):\n",
    "    while True:\n",
    "        question = random.choice(questions)\n",
    "        if level == -1 or question[\"level\"] == level:\n",
    "            break\n",
    "    return question"
   ]
  },
  {
   "cell_type": "code",
   "execution_count": 6,
   "id": "9baedb6f-e3ec-4dad-ade2-ee27e192dadc",
   "metadata": {},
   "outputs": [],
   "source": [
    "def build_text_from_questions(questions):\n",
    "    '''\n",
    "    Build one long text string from all the questions.\n",
    "    This logic will vary based on the architecture of the benchmark questions.\n",
    "    @param questions list: list of dictionaries, one dictionary per question.\n",
    "    @return String: The text string\n",
    "    '''\n",
    "\n",
    "    text = \"\"\n",
    "    # Contrive the prompt as a complete sentence and each of the possible completions as a complete sentence.\n",
    "    for question in questions:\n",
    "        text += \" \" + str(question[\"quiz\"]).replace(\"\\\\n\",\"\").replace(\"\\\\N\", \"\")\n",
    "\n",
    "    return text"
   ]
  },
  {
   "cell_type": "code",
   "execution_count": 7,
   "id": "cf699a20-1c88-4bf5-a950-24559f08c3bd",
   "metadata": {},
   "outputs": [],
   "source": [
    "def compute_readability_indices(questions, verbose = True):\n",
    "    '''\n",
    "    Compute readability values using our Reading_Level class\n",
    "    @param questions list: A list of dictionaries, one dictionary per benchmark question\n",
    "    @param verbose bool: True if this function should print the computed values\n",
    "    @return dictionary: key is the readability metric, value is the corresponding score\n",
    "    '''\n",
    "    text = build_text_from_questions(questions)\n",
    "    indices = Reading_Level.compute_readability_indices(text)\n",
    "\n",
    "    if (verbose):\n",
    "        print(\"Readability Indices:\")\n",
    "        for index, score in indices.items():\n",
    "            print(f\"{index}: {score:.2f}\")\n",
    "    return indices"
   ]
  },
  {
   "cell_type": "code",
   "execution_count": 8,
   "id": "74ed05dc-7b6e-4cd7-976d-34e1fa8e9e70",
   "metadata": {},
   "outputs": [],
   "source": [
    "def generate_wordcloud(questions):\n",
    "    '''\n",
    "    Build a word cloud based on the questions in a benchmark\n",
    "    @param questions list: List of dictionaries, each dictionary os a question from the benchmark\n",
    "    @return None\n",
    "    '''\n",
    "    text = build_text_from_questions(questions)\n",
    "\n",
    "    wordcloud = Wordcloud()\n",
    "    wordcloud.generate01(text, myStopwords={\"Numerical\", \"options\"})"
   ]
  },
  {
   "cell_type": "code",
   "execution_count": 9,
   "id": "21354a23-cef7-43ed-a3f7-045b344b0991",
   "metadata": {},
   "outputs": [],
   "source": [
    "def compute_word_frequency(questions, verbose = True, min_percentage = 1.0):\n",
    "    '''\n",
    "    Compute the word frequencies in the benchmark questions\n",
    "    @param questions list: List of dictionaries, each dictionary os a question from the benchmark\n",
    "    @param verbose bool: True if the function should print the word frequencies\n",
    "    @param min_percentage float: the smallest percentage that should be printed. Defaults to 1.0\n",
    "    @return set (dictionary, float): ({word:# of times that word appears over all questions}, total words)\n",
    "    '''\n",
    "    text = build_text_from_questions(questions)\n",
    "\n",
    "    word_frequency, count = Word_Processing.compute_word_frequency(text)\n",
    "    sorted_word_frequency = {k: v for k, v in sorted(word_frequency.items(), key=lambda item: item[1], reverse = True)}\n",
    "    count = float(count)\n",
    "    if verbose:\n",
    "        print(\"Word Frequency:\")\n",
    "        #for key in [key for key in sorted_word_frequency.keys()][:5]:\n",
    "        for key in sorted_word_frequency.keys():\n",
    "            percentage = (sorted_word_frequency[key] / count)* 100\n",
    "            if percentage >= min_percentage:\n",
    "                print(key, \":\", sorted_word_frequency[key], \",\", '{0:.2f}'.format(percentage))\n",
    "\n",
    "    return (sorted_word_frequency, count)"
   ]
  },
  {
   "cell_type": "code",
   "execution_count": 10,
   "id": "038792b9-315b-456f-a6e2-1e4ebc660023",
   "metadata": {},
   "outputs": [],
   "source": [
    "def compute_longest_words(questions, verbose = True):\n",
    "    '''\n",
    "    Compute the longest words appearing across all the questions\n",
    "    @param questions list: List of dictionaries, each dictionary is a question from the benchmark\n",
    "    @param verbose bool: True if the function should print the words\n",
    "    @return set (dictionary, float): ({word:# of times that word appears over all questions}, total words)    \n",
    "    '''\n",
    "\n",
    "    text = build_text_from_questions(questions)\n",
    "    #print(\"**********************\")\n",
    "    #print(text.split())\n",
    "    #print(\"**********************\")\n",
    "\n",
    "    word_length, count = Word_Processing.compute_longest_words(text, min_length = 12)\n",
    "    #sorted_word_lengths = {k: v for k, v in sorted(word_length.items(), key=lambda item: item[1], reverse = True)}\n",
    "    sorted_word_lengths = {k: v for k, v in sorted(word_length.items(), key=lambda item: len(item[0]), reverse = True)}\n",
    "    count = float(count)\n",
    "    if verbose:\n",
    "        print(\"Longest Words:\")\n",
    "        for key in list(sorted_word_lengths.keys())[0:25]:\n",
    "            print(len(key), \", \", key, \":\", sorted_word_lengths[key], \",\", '{0:.2f}'.format((sorted_word_lengths[key] / count)* 100))\n",
    "\n",
    "    return (sorted_word_lengths, count)"
   ]
  },
  {
   "cell_type": "code",
   "execution_count": 11,
   "id": "4531c71c-9a51-4903-96d5-e1eee728b859",
   "metadata": {},
   "outputs": [],
   "source": [
    "def find_word(questions, word):\n",
    "    return Word_Processing.find_word(questions, word)"
   ]
  },
  {
   "cell_type": "code",
   "execution_count": 12,
   "id": "05c6a3b5-67d8-4da5-97a9-b6b06fdbf714",
   "metadata": {},
   "outputs": [],
   "source": [
    "def demo():\n",
    "\n",
    "    print(\"Family relationships benchmark data\")\n",
    "    data_file = \"data\\\\farel_bench.txt\"\n",
    "    questions = csv_to_dict(data_file, [\"level\", \"relation name\", \"correct answer\", \"quiz\"])\n",
    "    print(len(questions), \"questions read from\", data_file)\n",
    "    question = get_random_question(questions)\n",
    "    print(\"Random question:\")\n",
    "    print_question(question)    \n",
    "    compute_readability_indices(questions)\n",
    "\n",
    "    generate_wordcloud(questions)\n",
    "\n",
    "    compute_word_frequency(questions)\n",
    "\n",
    "    compute_longest_words(questions)\n",
    "\n",
    "    print(\"\")\n",
    "\n",
    "    # The find word logic isn't all that useful here. There aren't a lot of unique words\n",
    "    #word = \"relationship\"\n",
    "    #print(word , \"found in\", find_word(questions, word))\n",
    "    #print(\"analysis:\", analysis)"
   ]
  },
  {
   "cell_type": "code",
   "execution_count": 13,
   "id": "73ba1dc4-b065-4f71-9602-90aa032c8a39",
   "metadata": {},
   "outputs": [
    {
     "name": "stdout",
     "output_type": "stream",
     "text": [
      "Family relationships benchmark data\n",
      "1000 questions read from data\\farel_bench.txt\n",
      "Random question:\n",
      "level: 2\n",
      "relation name: grandchild\n",
      "correct answer: 1\n",
      "quiz: Given the family relationships:\n",
      "* Dylan is Danielle's parent.\n",
      "* Gloria is Jason's parent.\n",
      "* Jason is Roy's parent.\n",
      "* Danielle is Diane's parent.\n",
      "* Danielle is Gloria's parent.\n",
      "What is Roy's relationship to Gloria?\n",
      "Select the correct answer:\n",
      "1. Roy is Gloria's grandchild.\n",
      "2. Roy is Gloria's sibling.\n",
      "3. Roy is Gloria's grandparent.\n",
      "Enclose the selected answer number in the <ANSWER> tag, for example: <ANSWER>1</ANSWER>.\n",
      "Readability Indices:\n",
      "Flesch-Kincaid Grade: 5.20\n",
      "Flesch-Kincaid Reading Ease: 66.40\n",
      "GunningFog: 2.01\n",
      "ColemanLiau: 10.93\n",
      "ARI: 10.70\n",
      "SMOG: 7.60\n",
      "LIX: 52.93\n"
     ]
    },
    {
     "data": {
      "image/png": "[encoded data removed]",
      "text/plain": [
       "<Figure size 432x288 with 1 Axes>"
      ]
     },
     "metadata": {
      "needs_background": "light"
     },
     "output_type": "display_data"
    },
    {
     "data": {
      "text/plain": [
       "<Figure size 432x288 with 0 Axes>"
      ]
     },
     "metadata": {},
     "output_type": "display_data"
    },
    {
     "name": "stdout",
     "output_type": "stream",
     "text": [
      "Word Frequency:\n",
      "IS : 17750 , 17.96\n",
      "PARENT.* : 11250 , 11.38\n",
      "THE : 4000 , 4.05\n",
      "GREAT : 3200 , 3.24\n",
      "OR : 1500 , 1.52\n",
      "GIVEN : 1000 , 1.01\n",
      "FAMILY : 1000 , 1.01\n",
      "RELATIONSHIPS:* : 1000 , 1.01\n",
      "PARENT.WHAT : 1000 , 1.01\n",
      "RELATIONSHIP : 1000 , 1.01\n",
      "TO : 1000 , 1.01\n",
      "CORRECT : 1000 , 1.01\n",
      "ANSWER:1. : 1000 , 1.01\n",
      "SELECTED : 1000 , 1.01\n",
      "ANSWER : 1000 , 1.01\n",
      "NUMBER : 1000 , 1.01\n",
      "IN : 1000 , 1.01\n",
      "<ANSWER> : 1000 , 1.01\n",
      "TAG : 1000 , 1.01\n",
      "FOR : 1000 , 1.01\n",
      "EXAMPLE: : 1000 , 1.01\n",
      "<ANSWER>1</ANSWER>. : 1000 , 1.01\n",
      "Longest Words:\n",
      "20 ,  GRAND-NEPHEW.ENCLOSE : 103 , 0.10\n",
      "19 ,  <ANSWER>1</ANSWER>. : 1000 , 1.01\n",
      "19 ,  GRANDPARENT.ENCLOSE : 209 , 0.21\n",
      "19 ,  GRAND-UNCLE.ENCLOSE : 97 , 0.10\n",
      "18 ,  GRANDCHILD.ENCLOSE : 210 , 0.21\n",
      "18 ,  CHRISTOPHER?SELECT : 3 , 0.00\n",
      "17 ,  JACQUELINE?SELECT : 2 , 0.00\n",
      "16 ,  STEPHANIE?SELECT : 7 , 0.01\n",
      "16 ,  CHRISTIAN?SELECT : 5 , 0.01\n",
      "16 ,  CATHERINE?SELECT : 6 , 0.01\n",
      "16 ,  CHRISTINA?SELECT : 4 , 0.00\n",
      "16 ,  ELIZABETH?SELECT : 10 , 0.01\n",
      "16 ,  ALEXANDER?SELECT : 6 , 0.01\n",
      "16 ,  KATHERINE?SELECT : 3 , 0.00\n",
      "16 ,  CHRISTINE?SELECT : 3 , 0.00\n",
      "16 ,  CHARLOTTE?SELECT : 1 , 0.00\n",
      "15 ,  RELATIONSHIPS:* : 1000 , 1.01\n",
      "15 ,  PATRICIA?SELECT : 4 , 0.00\n",
      "15 ,  BENJAMIN?SELECT : 5 , 0.01\n",
      "15 ,  JENNIFER?SELECT : 7 , 0.01\n",
      "15 ,  MARGARET?SELECT : 10 , 0.01\n",
      "15 ,  LAWRENCE?SELECT : 6 , 0.01\n",
      "15 ,  NICHOLAS?SELECT : 5 , 0.01\n",
      "15 ,  SIBLING.ENCLOSE : 47 , 0.05\n",
      "15 ,  SAMANTHA?SELECT : 3 , 0.00\n",
      "\n"
     ]
    }
   ],
   "source": [
    "if __name__ == '__main__':\n",
    "    demo()"
   ]
  },
  {
   "cell_type": "code",
   "execution_count": null,
   "id": "b8701655-0371-4923-907c-7fc96e0ef889",
   "metadata": {},
   "outputs": [],
   "source": []
  }
 ],
 "metadata": {
  "kernelspec": {
   "display_name": "Python 3 (ipykernel)",
   "language": "python",
   "name": "python3"
  },
  "language_info": {
   "codemirror_mode": {
    "name": "ipython",
    "version": 3
   },
   "file_extension": ".py",
   "mimetype": "text/x-python",
   "name": "python",
   "nbconvert_exporter": "python",
   "pygments_lexer": "ipython3",
   "version": "3.9.12"
  }
 },
 "nbformat": 4,
 "nbformat_minor": 5
}
