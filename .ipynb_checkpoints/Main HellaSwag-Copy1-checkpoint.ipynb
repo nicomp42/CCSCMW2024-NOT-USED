{
 "cells": [
  {
   "cell_type": "markdown",
   "id": "5d2fba69-f501-49ba-8889-ed49583db0c4",
   "metadata": {},
   "source": [
    "#### HellaSwag"
   ]
  },
  {
   "cell_type": "code",
   "execution_count": 1,
   "id": "00214223-41a4-4566-8227-4d2e1df4ed9e",
   "metadata": {},
   "outputs": [],
   "source": [
    "#!pip install import-ipynb"
   ]
  },
  {
   "cell_type": "code",
   "execution_count": 2,
   "id": "d8eee929-0799-4602-b3c6-42aa5b0bef1c",
   "metadata": {},
   "outputs": [],
   "source": [
    "import import_ipynb\n",
    "import contextlib\n",
    "import random"
   ]
  },
  {
   "cell_type": "code",
   "execution_count": 3,
   "id": "f4624b86-8b23-431e-baca-bacbc4a289ec",
   "metadata": {},
   "outputs": [],
   "source": [
    "with contextlib.redirect_stdout(None):\n",
    "    from Json_Processor import *\n",
    "    from Utilities import *\n",
    "    from Reading_Level import *\n",
    "    from Wordcloud import *\n",
    "    from Word_Processing import *"
   ]
  },
  {
   "cell_type": "code",
   "execution_count": 4,
   "id": "672b3191-3327-4b88-be40-1662f6d77fb5",
   "metadata": {},
   "outputs": [],
   "source": [
    "def analyze_questions(questions):\n",
    "    analysis = dict()\n",
    "    activity_labels = set()\n",
    "    for question in questions:\n",
    "        activity_labels.add(question[\"activity_label\"])\n",
    "\n",
    "    analysis[\"activity_labels\"] = activity_labels\n",
    "    return analysis"
   ]
  },
  {
   "cell_type": "code",
   "execution_count": 5,
   "id": "9bcb52f5-c928-4519-bd84-7769dafdc7f7",
   "metadata": {},
   "outputs": [],
   "source": [
    "def get_random_question(questions, source_id = None):\n",
    "    '''\n",
    "    Extract a random question \n",
    "    @param questions list: a list of dictionaries, each a question. \n",
    "    @param source_id str: the desired source of the question. Defaults to None for don't care.  \n",
    "    @return dictionary: The random question as a dictionary\n",
    "    '''\n",
    "    if source_id == None:\n",
    "        return random.choice(questions)\n",
    "    else:\n",
    "        while True:\n",
    "            question = random.choice(questions)\n",
    "            if source_id in question[\"source_id\"]:\n",
    "                return question"
   ]
  },
  {
   "cell_type": "code",
   "execution_count": 6,
   "id": "0328a99a-27d1-4760-99d7-4eb951c35f28",
   "metadata": {},
   "outputs": [],
   "source": [
    "def print_question(question):\n",
    "    '''\n",
    "    Print a question\n",
    "    @param question dictionary: The question to be printed\n",
    "    @return: None\n",
    "    '''\n",
    "    print(\"Activity Label:\", question[\"activity_label\"])\n",
    "    print(\"Full Context:\", question[\"ctx_a\"])\n",
    "    print(\"Source_id:\", question[\"source_id\"])\n",
    "    try:\n",
    "        print(\"Label (correct answer, zero-based):\", question[\"label\"])\n",
    "    except:\n",
    "        print(\"Label: not provided, probably because this is the test dataset\")\n",
    "    print(\"Endings:\")\n",
    "    idx = 0\n",
    "    for ending in question[\"endings\"]:\n",
    "        print(idx, \":\", question[\"ctx_b\"] + \" \" + ending)\n",
    "        idx += 1\n",
    "    \n",
    "    #for key in question.keys():\n",
    "    #    print(key,\":\",question[key])"
   ]
  },
  {
   "cell_type": "code",
   "execution_count": 7,
   "id": "4de3ec58-fd5e-4cdb-9245-26a6d292b517",
   "metadata": {},
   "outputs": [],
   "source": [
    "def build_text_from_questions(questions):\n",
    "    '''\n",
    "    Build one long text string from all the questions.\n",
    "    This logic will vary based on the architecture of the benchmark questions.\n",
    "    @param questions list: list of dictionaries, one dictionary per question.\n",
    "    @return String: The text string\n",
    "    '''\n",
    "    \n",
    "    # dict_keys(['ind', 'activity_label', 'ctx_a', 'ctx_b', 'ctx', 'split', 'split_type', 'label', 'endings', 'source_id']\n",
    "    #print(\"HellaSwag keys are:\")\n",
    "    #print(questions[0].keys())\n",
    "    text = \"\"\n",
    "    # Contrive the prompt as a complete sentence and each of the possible completions as a complete sentence.\n",
    "    for question in questions:\n",
    "        text += \" \" + str(question[\"ctx_a\"])\n",
    "        for ending in question[\"endings\"]:\n",
    "            text += \" \" + question[\"ctx_b\"] + \" \" + ending\n",
    "    return text"
   ]
  },
  {
   "cell_type": "code",
   "execution_count": 8,
   "id": "dec1236f-3e33-45a0-8979-b2e13df70a83",
   "metadata": {},
   "outputs": [],
   "source": [
    "def compute_readability_indices(questions, verbose = True):\n",
    "    '''\n",
    "    Compute readability values using our Reading_Level class\n",
    "    @param questions list: A list of dictionaries, one dictionary per benchmark question\n",
    "    @param verbose bool: True if this function should print the computed values\n",
    "    @return dictionary: key is the readability metric, value is the corresponding score\n",
    "    '''\n",
    "    text = build_text_from_questions(questions)\n",
    "    indices = Reading_Level.compute_readability_indices(text)\n",
    "\n",
    "    if (verbose):\n",
    "        print(\"Readability Indices:\")\n",
    "        for index, score in indices.items():\n",
    "            print(f\"{index}: {score:.2f}\")\n",
    "    return indices"
   ]
  },
  {
   "cell_type": "code",
   "execution_count": 9,
   "id": "422c8b4c-8845-49fe-94d1-b8ec8f79d692",
   "metadata": {},
   "outputs": [],
   "source": [
    "def generate_wordcloud(questions):\n",
    "    '''\n",
    "    Build a word cloud based on the questions in a benchmark\n",
    "    @param questions list: List of dictionaries, each dictionary os a question from the benchmark\n",
    "    @return None\n",
    "    '''\n",
    "    text = build_text_from_questions(questions)\n",
    "\n",
    "    wordcloud = Wordcloud()\n",
    "    wordcloud.generate01(text, myStopwords={\"Numerical\", \"options\"})"
   ]
  },
  {
   "cell_type": "code",
   "execution_count": 10,
   "id": "7c38a148-dda8-4353-831d-da518c932f6a",
   "metadata": {},
   "outputs": [],
   "source": [
    "def compute_word_frequency(questions, verbose = True, min_percentage = 1.0):\n",
    "    '''\n",
    "    Compute the word frequencies in the benchmark questions\n",
    "    @param questions list: List of dictionaries, each dictionary os a question from the benchmark\n",
    "    @param verbose bool: True if the function should print the word frequencies\n",
    "    @param min_percentage float: the smallest percentage that should be printed. Defaults to 1.0\n",
    "    @return set (dictionary, float): ({word:# of times that word appears over all questions}, total words)\n",
    "    '''\n",
    "    text = build_text_from_questions(questions)\n",
    "\n",
    "    word_frequency, count = Word_Processing.compute_word_frequency(text)\n",
    "    sorted_word_frequency = {k: v for k, v in sorted(word_frequency.items(), key=lambda item: item[1], reverse = True)}\n",
    "    count = float(count)\n",
    "    if verbose:\n",
    "        print(\"Word Frequency:\")\n",
    "        #for key in [key for key in sorted_word_frequency.keys()][:5]:\n",
    "        for key in sorted_word_frequency.keys():\n",
    "            percentage = (sorted_word_frequency[key] / count)* 100\n",
    "            if percentage >= min_percentage:\n",
    "                print(key, \":\", sorted_word_frequency[key], \",\", '{0:.2f}'.format(percentage))\n",
    "\n",
    "    return (sorted_word_frequency, count)"
   ]
  },
  {
   "cell_type": "code",
   "execution_count": 11,
   "id": "bdf419d2-76de-46d3-91e4-f40d72f36e47",
   "metadata": {},
   "outputs": [],
   "source": [
    "def compute_longest_words(questions, verbose = True):\n",
    "    '''\n",
    "    Compute the longest words appearing across all the questions\n",
    "    @param questions list: List of dictionaries, each dictionary is a question from the benchmark\n",
    "    @param verbose bool: True if the function should print the words\n",
    "    @return set (dictionary, float): ({word:# of times that word appears over all questions}, total words)    \n",
    "    '''\n",
    "\n",
    "    text = build_text_from_questions(questions)\n",
    "    #print(\"**********************\")\n",
    "    #print(text.split())\n",
    "    #print(\"**********************\")\n",
    "\n",
    "    word_length, count = Word_Processing.compute_longest_words(text, min_length = 12)\n",
    "    #sorted_word_lengths = {k: v for k, v in sorted(word_length.items(), key=lambda item: item[1], reverse = True)}\n",
    "    sorted_word_lengths = {k: v for k, v in sorted(word_length.items(), key=lambda item: len(item[0]), reverse = True)}\n",
    "    count = float(count)\n",
    "    if verbose:\n",
    "        print(\"Longest Words:\")\n",
    "        for key in list(sorted_word_lengths.keys())[0:25]:\n",
    "            print(len(key), \", \", key, \":\", sorted_word_lengths[key], \",\", '{0:.2f}'.format((sorted_word_lengths[key] / count)* 100))\n",
    "\n",
    "    return (sorted_word_lengths, count)"
   ]
  },
  {
   "cell_type": "code",
   "execution_count": 12,
   "id": "f65e7268-6bca-4b9c-8bcb-a7de422e1aee",
   "metadata": {},
   "outputs": [],
   "source": [
    "def find_word(questions, word):\n",
    "    return Word_Processing.find_word(questions, word)"
   ]
  },
  {
   "cell_type": "code",
   "execution_count": 13,
   "id": "72d96fa3-e414-4317-8f5e-02a48c22cc8c",
   "metadata": {},
   "outputs": [],
   "source": [
    "def demo():\n",
    "\n",
    "    benchmark_name = \"HellaSwag\"\n",
    "    input_file_path = 'data/hellaswag_train.json'\n",
    "    output_file_path = 'data/output.json'\n",
    "    question_path = \"data/\"\n",
    "    \n",
    "    json_processor = Hella_Swag_Json_Processor(input_file_path, output_file_path)\n",
    "    questions = json_processor.read_json()\n",
    "\n",
    "    print(len(questions), \"questions read from\", input_file_path)\n",
    "    print(len(questions), \"questions read from\", len(json_files), \"files in\", question_path)\n",
    "\n",
    "    random_question = get_random_question(questions)\n",
    "\n",
    "    words_not_found = find_missing_words(benchmark_name, questions)\n",
    "\n",
    "    print(\"Random question:\")\n",
    "    print_question(random_question)\n",
    "    \n",
    "    compute_readability_indices(benchmark_name, questions)\n",
    "    \n",
    "    generate_wordcloud(benchmark_name, questions)\n",
    "\n",
    "    compute_word_frequency(benchmark_name, questions)\n",
    "    \n",
    "    compute_longest_words(benchmark_name, questions)"
   ]
  },
  {
   "cell_type": "code",
   "execution_count": 14,
   "id": "bb974de3-9515-4a2c-ae9c-29e3adbbbef5",
   "metadata": {},
   "outputs": [
    {
     "name": "stdout",
     "output_type": "stream",
     "text": [
      "39905 questions read from data/hellaswag_train.json\n",
      "178 activity labels found\n",
      "Random question:\n",
      "Activity Label: Philosophy and Religion\n",
      "Full Context: [header] How to grill trout [title] Remove the trout's gills and guts. [step] Using a filet knife, make a straight cut on the bottom of the fish from the anal fin to the pectoral fins, stopping right before the gills. On the underside of the mouth, cut down on each side of the chin to create a v shape.\n",
      "Source_id: wikihow~71977\n",
      "Label (correct answer, zero-based): 1\n",
      "Endings:\n",
      "0 :  [substeps] The pineal fin looks like a concave and horizontal x, while the trout's anus is a small round button. Attach the ribs and gills to the grill with rods.\n",
      "1 :  Using scissors, cut from each of the pectoral fins to the trout's adjacent gills. Grab the mouth cuts and pull back to remove the guts and gills.\n",
      "2 :  That way, if you see any blood in the chest cavity, you will know there is enough flesh in the carcass to give you a great flavor. Be careful not to pull the fish away from the grill.\n",
      "3 :  Cut off the barbs above and below this line. [substeps] If you plan to grill the trout individually, cut through the end of the line that emerges from the underside of each trout breast.\n",
      "Readability Indices:\n",
      "Flesch-Kincaid Grade: 6.80\n",
      "Flesch-Kincaid Reading Ease: 73.07\n",
      "GunningFog: 6.14\n",
      "ColemanLiau: 7.82\n",
      "ARI: 7.90\n",
      "SMOG: 9.10\n",
      "LIX: 35.68\n"
     ]
    },
    {
     "data": {
      "image/png": "[encoded data removed]",
      "text/plain": [
       "<Figure size 432x288 with 1 Axes>"
      ]
     },
     "metadata": {
      "needs_background": "light"
     },
     "output_type": "display_data"
    },
    {
     "data": {
      "text/plain": [
       "<Figure size 432x288 with 0 Axes>"
      ]
     },
     "metadata": {},
     "output_type": "display_data"
    },
    {
     "name": "stdout",
     "output_type": "stream",
     "text": [
      "Word Frequency:\n",
      "THE : 324754 , 5.85\n",
      "TO : 194653 , 3.50\n",
      "A : 193891 , 3.49\n",
      "AND : 143473 , 2.58\n",
      "YOU : 119509 , 2.15\n",
      "YOUR : 102152 , 1.84\n",
      "OF : 100021 , 1.80\n",
      "IN : 80803 , 1.45\n",
      "IS : 61860 , 1.11\n",
      "[TITLE] : 61158 , 1.10\n",
      "Longest Words:\n",
      "142 ,  CA/EN/IMMIGRATION-REFUGEES-CITIZENSHIP/SERVICES/APPLICATION/APPLICATION-FORMS-GUIDES/GUIDE-5525-BASIC-GUIDE-SPONSOR-YOUR-SPOUSE-PARTNER-CHILD. : 1 , 0.00\n",
      "109 ,  WWW.IRS.GOV/BUSINESSES/SMALL-BUSINESSES-SELF-EMPLOYED/APPLY-FOR-AN-EMPLOYER-IDENTIFICATION-NUMBER-EIN-ONLINE. : 1 , 0.00\n",
      "104 ,  WWW.AICOSMEUSERNAMES.GOV/EN/WEBSITES/TECHNICAL-NETWORKS/LINKS/YOUTUBE/PNF.CLEARMARKS-HOW-TO-USE-AIRPLAY. : 1 , 0.00\n",
      "86 ,  WWW.MINECRAFT/DOWNLOADS/UPGRADES-MINECRAFT-LAUNCHER-PLAY-DOWNGRADE-MINECRAFT-TUTORIAL. : 1 , 0.00\n",
      "79 ,  WWW.PITPI.COM/BUILDER/BUILDER/BUILDER-RISK-QUOTES-ON-US/BUILDER/BUILDER/BUILDER : 1 , 0.00\n",
      "73 ,  WWW.USACAVIDE.COM/LEGAL-AID/BASICS/COPIES/MANAGE-PRIVATE-DOCUMENTS/FORMS. : 1 , 0.00\n",
      "72 ,  WWW.RAINWATER-RATE/BUILDER/BUILDER/BUILDER-INSURANCE-CUSTOMER-INSURANCE. : 1 , 0.00\n",
      "67 ,  WWW.FINETS.COM/WORKGROUP/FINRA-TRADEMARK-TRADEMARK-SEARCH-DATABASE. : 1 , 0.00\n",
      "67 ,  WWW.AA.COM/I18N/AADVANTAGE-PROGRAM/MILES/PARTNERS/PARTNER-AIRLINES. : 1 , 0.00\n",
      "66 ,  WWW.ODC.GOV/INFO-TRANSPORTATION/AUTO-TRANSPORT-FAMILIES/BUSINESSES : 1 , 0.00\n",
      "63 ,  GOV/FORMS-COMPLAINT-FORM-9522-ALLOW-THE-CALL-FORM-9522-DEMAND-. : 1 , 0.00\n",
      "63 ,  NEVADAESCROWOFFICER.COM/DOWNLOADS/SAMPLE-NEVADA-QUITCLAIM-DEED. : 1 , 0.00\n",
      "63 ,  CA/ACCREDITATION/ACCREDITED-CANADIAN-NURSING-EDUCATION-PROGRAMS : 1 , 0.00\n",
      "63 ,  WIKIPEDIA/TIPS/WIKIPEDIA/KEYWORDS/WIKIPEDIA/TIPS/WIKIPEDIA/DROP : 1 , 0.00\n",
      "59 ,  WWW.NOLO.COM/KANSAS-APPLY-KEYWORD-PROCESSING/FORM/OPTIONAL. : 1 , 0.00\n",
      "58 ,  MINYXXTHETHEODS.ORG/LOTS/EQUATIONS/CARSULOFCULOPRIGNS.CFM. : 1 , 0.00\n",
      "56 ,  ORG/EVASI0N-JAILBREAK-RELEASED-FOR-IOS-7-EVASION-7.HTML. : 1 , 0.00\n",
      "55 ,  WWW.HACKEDFILES.COM/WAR-COMMANDER-HACK-TOOL-CHEATS-2014 : 1 , 0.00\n",
      "55 ,  GOV/TIPS/LEGAL-FILING/GET-A-TIMELY-COPY-OF-THE-SUMMONS. : 1 , 0.00\n",
      "55 ,  CANADIAN-CANADA/EN/COUNTRIES/COUNTRIES/EN/INQH128.HTML. : 1 , 0.00\n",
      "54 ,  WWW.NIH.GOV/LBNS-PRIDE-TURTLE-TURTLE-TURTLE/DONATIONS. : 1 , 0.00\n",
      "54 ,  WWW.YOUTUBE.COM/WATCH/YOUTUBE.COM/WATCH-YOUTUBE-VIDEOS : 1 , 0.00\n",
      "53 ,  WWW.NPS.GOV/GRCA/PLANYOURVISIT/UPLOAD/PERMIT-REQUEST. : 1 , 0.00\n",
      "52 ,  WWW.WINDOWSPHONE.COM/EN-US/HOW-TO/WP7/ZUNE-SOFTWARE. : 1 , 0.00\n",
      "52 ,  WWW.APPLE.COM/APPS/ITUNES/FREE-IPAD/CONTENT/SYNCHON. : 1 , 0.00\n",
      "\n",
      "CA/EN/IMMIGRATION-REFUGEES-CITIZENSHIP found in [{'ind': 3192, 'ctx': '[header] How to sponsor your spouse in canada [title] Read through the guide. [step] The canadian government recommends you read the sponsorship guide before you start filling out your application. Missing or incorrect information can delay processing of your application or cause it to be rejected.', 'activity_label': 'Home and Garden', 'ctx_a': '[header] How to sponsor your spouse in canada [title] Read through the guide. [step] The canadian government recommends you read the sponsorship guide before you start filling out your application. Missing or incorrect information can delay processing of your application or cause it to be rejected.', 'ctx_b': '', 'split': 'train', 'split_type': 'indomain', 'label': 2, 'endings': ['Read the guide to get an idea of the content and process before applying. [substeps] It is important to read the guide carefully and with clarity before you select the sponsor to sponsor you.', 'Just look at the guide occasionally when in doubt. [title] Plan for the trip you plan to attend.', '[substeps] The \" basic guide \" is available at https: // www.canada. Ca/en/immigration-refugees-citizenship/services/application/application-forms-guides/guide-5525-basic-guide-sponsor-your-spouse-partner-child.', 'In some cases, you can just go ahead and complete the entire guide and not have to worry about your spouse. This may seem annoying, but it is necessary and effective.'], 'source_id': 'wikihow~5274'}]\n"
     ]
    }
   ],
   "source": [
    "if __name__ == \"__main__\":\n",
    "    demo()"
   ]
  }
 ],
 "metadata": {
  "kernelspec": {
   "display_name": "Python 3 (ipykernel)",
   "language": "python",
   "name": "python3"
  },
  "language_info": {
   "codemirror_mode": {
    "name": "ipython",
    "version": 3
   },
   "file_extension": ".py",
   "mimetype": "text/x-python",
   "name": "python",
   "nbconvert_exporter": "python",
   "pygments_lexer": "ipython3",
   "version": "3.9.12"
  }
 },
 "nbformat": 4,
 "nbformat_minor": 5
}
