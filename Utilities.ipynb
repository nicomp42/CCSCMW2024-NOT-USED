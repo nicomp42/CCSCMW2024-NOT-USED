{
 "cells": [
  {
   "cell_type": "markdown",
   "id": "a05bed89-4f41-46f9-a819-9be711b25834",
   "metadata": {},
   "source": [
    "#### Utilties.ipynb\n",
    "#### Utilities for us all to enjoy"
   ]
  },
  {
   "cell_type": "code",
   "execution_count": 1,
   "id": "aed94a75-e4a9-45d3-a820-c57f6000de06",
   "metadata": {},
   "outputs": [],
   "source": [
    "import os"
   ]
  },
  {
   "cell_type": "code",
   "execution_count": 2,
   "id": "a0457183-08ae-40e0-a56e-646cd1b879e0",
   "metadata": {},
   "outputs": [],
   "source": [
    "def read_directory_contents(path):\n",
    "    \"\"\"\n",
    "    Read the contents of a directory\n",
    "    @param path String: the path of the directory to be processed\n",
    "    @return: a list\n",
    "    \"\"\"\n",
    "    # Get list of contents in the folder\n",
    "    contents = os.listdir(path)\n",
    "    return contents"
   ]
  },
  {
   "cell_type": "code",
   "execution_count": 3,
   "id": "9e4e3cc2-4fee-454c-83d0-3e65169d8423",
   "metadata": {},
   "outputs": [],
   "source": [
    "def write_string_to_file(text, file_name):\n",
    "    \"\"\"\n",
    "    Writes a string to a file.\n",
    "\n",
    "    @param text string: The string to write.\n",
    "    @param file_name: The name of the file to write to.\n",
    "    @return bool: True if file was written, False if an exception was thrown\n",
    "    \"\"\"\n",
    " \n",
    "    status = True\n",
    "    try:\n",
    "        # Create the directory if it doesn't exist\n",
    "        os.makedirs(os.path.dirname(file_name), exist_ok=True)\n",
    "\n",
    "        # Open the file in write mode  \n",
    "        with open(file_name, 'w', encoding='utf-8') as file:\n",
    "            file.write(text)\n",
    "        #print(f\"String written to file: {filename}\")\n",
    "        \n",
    "    except Exception as e:\n",
    "        status = False\n",
    "        print(f\"Utilities.write_string_to_file(): Error writing to {file_name}: {e}\")\n",
    "        \n",
    "    return status"
   ]
  },
  {
   "cell_type": "code",
   "execution_count": 4,
   "id": "a98f64d9-695e-47bc-9707-840a34a3ca7f",
   "metadata": {},
   "outputs": [],
   "source": [
    "def write_dict_keys_to_file(dictionary, file_name, length = 0):\n",
    "    \"\"\"\n",
    "    Writes the keys of a dictionary to a text file, one per line.\n",
    "\n",
    "    @param dictionary dict: The dictionary whose keys will be written.\n",
    "    @param filename string: The name of the file to write to.\n",
    "    @return bool: True if file was written, False if an exception was thrown\n",
    "    \"\"\"\n",
    " \n",
    "    status = True\n",
    "    try:\n",
    "        with open(file_name, 'w', encoding='utf-8') as f:\n",
    "            if length == 0:\n",
    "                for key in dictionary:\n",
    "                    f.write(str(key) + '\\n')\n",
    "            else:\n",
    "                #print(\"Writing\", length, \"words to file.\")\n",
    "                for key in list(dictionary.keys())[0:length]:\n",
    "                    f.write(str(key) + '\\n')\n",
    "                \n",
    "    except Exception as e:\n",
    "        status = False\n",
    "        print(f\"Utilities.write_dict_keys_to_file(): Error writing to {file_name}: {e}\")\n",
    "        \n",
    "    return status"
   ]
  },
  {
   "cell_type": "code",
   "execution_count": 5,
   "id": "80c91c8e-1639-4d6e-9169-ec75e789f7b4",
   "metadata": {},
   "outputs": [],
   "source": [
    "def write_dict_to_file(dictionary, file_name, length = 0, denominator = 0):\n",
    "    \"\"\"\n",
    "    Writes the keys and values of a dictionary to a text file, one per line.\n",
    "\n",
    "    @param dictionary dict: The dictionary whose keys will be written.\n",
    "    @param file_name string: The name of the file to write to.\n",
    "    @param length int: The number of key/value pairs to write. If 0, write all. Defaults to zero\n",
    "    @param denominator int: The number to use for the denominator when calculating percentages. Defaults to 0 and no perecentages will be calculated.\n",
    "    @return bool: True if file was written, False if an exception was thrown\n",
    "    \"\"\"\n",
    "\n",
    "    status = True\n",
    "    try:\n",
    "        with open(file_name, 'w', encoding='utf-8') as f:\n",
    "            if length == 0:\n",
    "                #print(\"write_dict_to_file length = 0\", \"********************* writing\", len(dictionary), \"dictionary items to\", file_name, \" ********************\")\n",
    "                for key in dictionary:\n",
    "                    if denominator == 0:\n",
    "                        f.write(str(key) + \": \" + str(dictionary[key]) + '\\n')\n",
    "                    else:\n",
    "                        f.write(str(key) + \": \" + str(dictionary[key]) + \", \" + '{0:.2f}'.format((dictionary[key] / denominator) * 100) + '\\n')\n",
    "            else:\n",
    "                #print(\"write_dict_to_file\", \"********************* writing\", length, \"dictionary items to\", file_name, \" ********************\")\n",
    "                for key in list(dictionary.keys())[0:length]:\n",
    "                    if denominator == 0:\n",
    "                        f.write(str(key) + \": \" + str(dictionary[key]) + '\\n')\n",
    "                    else:\n",
    "                        f.write(str(key) + \": \" + str(dictionary[key]) + \", \" + '{0:.2f}'.format((dictionary[key] / denominator) * 100) + '\\n')\n",
    "    except Exception as e:\n",
    "        status = False\n",
    "        print(f\"Utilities.write_dict_to_file(): Error writing to {file_name}: {e}\")\n",
    "\n",
    "    return status"
   ]
  }
 ],
 "metadata": {
  "kernelspec": {
   "display_name": "Python 3 (ipykernel)",
   "language": "python",
   "name": "python3"
  },
  "language_info": {
   "codemirror_mode": {
    "name": "ipython",
    "version": 3
   },
   "file_extension": ".py",
   "mimetype": "text/x-python",
   "name": "python",
   "nbconvert_exporter": "python",
   "pygments_lexer": "ipython3",
   "version": "3.9.12"
  }
 },
 "nbformat": 4,
 "nbformat_minor": 5
}
