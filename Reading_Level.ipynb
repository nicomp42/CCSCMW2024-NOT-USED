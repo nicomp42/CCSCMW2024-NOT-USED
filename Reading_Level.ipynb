{
 "cells": [
  {
   "cell_type": "markdown",
   "id": "8784bc01-aea7-4493-b92d-1dd0a398d884",
   "metadata": {},
   "source": [
    "#### ReadingLevel.ipynb"
   ]
  },
  {
   "cell_type": "code",
   "execution_count": 1,
   "id": "71e4dbbb-e6d4-43b6-8b2f-c77c9b5c936d",
   "metadata": {},
   "outputs": [],
   "source": [
    "import textstat\n",
    "import contextlib"
   ]
  },
  {
   "cell_type": "code",
   "execution_count": 2,
   "id": "52a0195b-cb94-45f5-a6d9-6701335496ce",
   "metadata": {},
   "outputs": [
    {
     "ename": "ModuleNotFoundError",
     "evalue": "No module named 'Utilities'",
     "output_type": "error",
     "traceback": [
      "\u001b[1;31m---------------------------------------------------------------------------\u001b[0m",
      "\u001b[1;31mModuleNotFoundError\u001b[0m                       Traceback (most recent call last)",
      "Input \u001b[1;32mIn [2]\u001b[0m, in \u001b[0;36m<cell line: 2>\u001b[1;34m()\u001b[0m\n\u001b[0;32m      1\u001b[0m \u001b[38;5;66;03m# Import Jupyter Notebook files\u001b[39;00m\n\u001b[0;32m      2\u001b[0m \u001b[38;5;28;01mwith\u001b[39;00m contextlib\u001b[38;5;241m.\u001b[39mredirect_stdout(\u001b[38;5;28;01mNone\u001b[39;00m):\n\u001b[1;32m----> 3\u001b[0m     \u001b[38;5;28;01mfrom\u001b[39;00m \u001b[38;5;21;01mUtilities\u001b[39;00m \u001b[38;5;28;01mimport\u001b[39;00m \u001b[38;5;241m*\u001b[39m\n",
      "\u001b[1;31mModuleNotFoundError\u001b[0m: No module named 'Utilities'"
     ]
    }
   ],
   "source": [
    "# Import Jupyter Notebook files\n",
    "with contextlib.redirect_stdout(None):\n",
    "    from Utilities import *"
   ]
  },
  {
   "cell_type": "code",
   "execution_count": null,
   "id": "b3ac77fb-f401-4bf7-a24e-ee9f319b433f",
   "metadata": {},
   "outputs": [],
   "source": [
    "class Reading_Level:\n",
    "    @staticmethod \n",
    "    def compute_readability_indices(benchmark_name, text):\n",
    "        \"\"\"\n",
    "        This method computes several readability indices for a given text string.\n",
    "\n",
    "        Args:\n",
    "            text: The text string to analyze.\n",
    "\n",
    "        Returns:\n",
    "            A dictionary containing the following readability indices (dictionary keys):\n",
    "                - Flesch-Kincaid Grade (Flesch-Kincaid Grade)\n",
    "                - Flesch-Kincaid Reading Ease Score (Flesch-Kincaid Reading Ease)\n",
    "                - Gunning Fog Index (GunningFog)\n",
    "                - Coleman-Liau Index (ColemanLiau)\n",
    "                - Automated Readability Index (ARI)\n",
    "                - SMOG Index (SMOG)\n",
    "                - LIX (LIX)\n",
    "        \"\"\"\n",
    "        results = {}\n",
    "        results[\"Flesch-Kincaid Grade\"] = textstat.flesch_kincaid_grade(text)\n",
    "        results[\"Flesch-Kincaid Reading Ease\"] = textstat.flesch_reading_ease(text)\n",
    "        results[\"GunningFog\"] = textstat.gunning_fog(text)\n",
    "        results[\"ColemanLiau\"] = textstat.coleman_liau_index(text)\n",
    "        results[\"ARI\"] = textstat.automated_readability_index(text)\n",
    "        results[\"SMOG\"] = textstat.smog_index(text)\n",
    "        results[\"LIX\"] = textstat.lix(text)\n",
    "\n",
    "        #print(\"********************* writing reading levels ********************\")\n",
    "        write_dict_to_file(results, \".\\\\\" + benchmark_name + \"\\\\results\\\\reading_level.txt\", 0)\n",
    "\n",
    "        return results\n",
    "\n",
    "    @staticmethod \n",
    "    def test01():\n",
    "        \"\"\"\n",
    "        Compute the readability indices of a paragraph that is rewritten in progressively simpler language. \n",
    "        Start at grad school level (?) and rewrite it to simplify down to words with 4 letters or less. \n",
    "        \"\"\"\n",
    "        text = \"\"\"\n",
    "        The burgeoning field of machine learning has become a potent elixir for astronomers drowning in a sea of data.\\\n",
    "        These sophisticated algorithms act as celestial sieves, meticulously sifting through the ever-expanding deluge\\\n",
    "        of information gleaned from powerful telescopes and spacefaring missions. By discerning subtle stellar whispers\\\n",
    "        and cosmic correlations that would elude even the most discerning human gaze, machine learning is accelerating \\\n",
    "        our quest to unravel the enigmatic tapestry of the cosmos. For instance, these algorithms are transforming \\\n",
    "        the way we classify galaxies, achieving a level of taxonomic precision previously unimaginable. \\\n",
    "        This newfound acuity is leading to groundbreaking revelations concerning galactic genesis and evolution. \\\n",
    "        As these tools continue to be honed and refined, their transformative impact on astronomy promises to propel us \\\n",
    "        towards an even deeper understanding of the universe's grand design.\n",
    "        \"\"\"\n",
    "        # There are excess blanks, just to make the code above more readable. We can remove them now.\n",
    "        for i in range(0,10):\n",
    "            text = text.replace(\"  \",\" \")\n",
    "        print(text)\n",
    "\n",
    "        ri = Reading_Level.compute_readability_indices(text)\n",
    "        for key in ri.keys():\n",
    "            print(key, \":\", ri[key])\n",
    "        print(\"=======================\")\n",
    "\n",
    "        text = \"\"\"\n",
    "                  Look! Space scientists have cool helpers called machines that learn.\\\n",
    "                  These machines help them look at all the new pictures from space telescopes, \\\n",
    "                  like looking for toys in a giant box. \\\n",
    "                  The machines are good at finding things people might miss, \\\n",
    "                  like special shapes in the stars. \\\n",
    "                  This helps scientists learn more about space, like how stars are born and grow up! \\\n",
    "                  Just like you learn new things, the machines are getting smarter too, \\\n",
    "                  so they can help us discover even more amazing things in space!\n",
    "               \"\"\"\n",
    "        # There are excess blanks, just to make the code above more readable. We can remove them now.\n",
    "        for i in range(0,10):\n",
    "            text = text.replace(\"  \",\" \")\n",
    "        print(text)\n",
    "\n",
    "        ri = Reading_Level.compute_readability_indices(text)\n",
    "        for key in ri.keys():\n",
    "            print(key, \":\", ri[key])\n",
    "        print(\"=======================\")\n",
    "\n",
    "        text = \"\"\"\n",
    "               Scientists see lots of space pictures! \\\n",
    "               They use special machines to help them look. \\\n",
    "               The machines are good at finding things that scientists might miss, like sparkly stars. \\\n",
    "               This helps scientists learn more about space, like where stars come from! \\\n",
    "               The machines are getting smarter to help us find even more cool things in space!\n",
    "               \"\"\"\n",
    "        # There are excess blanks, just to make the code above more readable. We can remove them now.\n",
    "        for i in range(0,10):\n",
    "            text = text.replace(\"  \",\" \")\n",
    "        print(text)\n",
    "\n",
    "        ri = Reading_Level.compute_readability_indices(text)\n",
    "        for key in ri.keys():\n",
    "            print(key, \":\", ri[key])\n",
    "        print(\"=======================\")\n",
    "\n",
    "        text = \"\"\"\n",
    "               See space pics! Fun machines help look! Find cool stars! Learn more space! Stars go boom! Smart machines find more!\n",
    "               \"\"\"\n",
    "        # There are excess blanks, just to make the code above more readable. We can remove them now.\n",
    "        for i in range(0,10):\n",
    "            text = text.replace(\"  \",\" \")\n",
    "        print(text)\n",
    "        ri = Reading_Level.compute_readability_indices(text)\n",
    "        for key in ri.keys():\n",
    "            print(key, \":\", ri[key])"
   ]
  },
  {
   "cell_type": "code",
   "execution_count": null,
   "id": "9f54d905-a4dc-46f0-85ef-b8c17a74688f",
   "metadata": {},
   "outputs": [],
   "source": [
    "if __name__ == \"__main__\":\n",
    "    Reading_Level.test01()"
   ]
  }
 ],
 "metadata": {
  "kernelspec": {
   "display_name": "Python 3 (ipykernel)",
   "language": "python",
   "name": "python3"
  },
  "language_info": {
   "codemirror_mode": {
    "name": "ipython",
    "version": 3
   },
   "file_extension": ".py",
   "mimetype": "text/x-python",
   "name": "python",
   "nbconvert_exporter": "python",
   "pygments_lexer": "ipython3",
   "version": "3.9.12"
  }
 },
 "nbformat": 4,
 "nbformat_minor": 5
}
